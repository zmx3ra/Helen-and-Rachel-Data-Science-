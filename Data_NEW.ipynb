{
 "cells": [
  {
   "cell_type": "code",
   "execution_count": 25,
   "id": "28ea83f3-1b7b-4fd2-8174-84432ed699a2",
   "metadata": {},
   "outputs": [],
   "source": [
    "import pandas as pd\n",
    "\n",
    "# Common Windows encoding\n",
    "df = pd.read_csv(r\"C:\\Users\\rache\\Helen-and-Rachel-Data-Science-\\dataset.csv\", encoding=\"cp1252\")\n",
    "\n",
    "# first need to subset\n",
    "counties = [\"Los Angeles\", \"San Diego\", \"Orange\", \"Riverside\", \"San Bernardino\"]\n",
    "\n",
    "subset_df = df[df[\"County\"].isin(counties)]\n",
    "\n",
    "# get rid of the 30-day (done)\n",
    "# remove location column (done)\n",
    "# print unique types in hospital rating and see how many unique types, convert to like three of four (there is already three so this looks good)\n",
    "# do something with the e's "
   ]
  },
  {
   "cell_type": "code",
   "execution_count": 26,
   "id": "92013e36-b2d0-4e4c-8d70-93444fd96fd7",
   "metadata": {},
   "outputs": [
    {
     "name": "stdout",
     "output_type": "stream",
     "text": [
      "         Year       County                   Hospital    OSHPDID  \\\n",
      "92  2011-2012  Los Angeles          Alhambra Hospital  106190017   \n",
      "93  2011-2012  Los Angeles          Alhambra Hospital  106190017   \n",
      "94  2011-2012  Los Angeles   Antelope Valley Hospital  106190034   \n",
      "95  2011-2012  Los Angeles   Antelope Valley Hospital  106190034   \n",
      "96  2011-2012  Los Angeles  Saint Mary Medical Center  106190053   \n",
      "\n",
      "               Measure  Risk Adjusted Rate  # of Deaths/Readmissions  \\\n",
      "92  30-day Readmission               10.40                      12.0   \n",
      "93    30-day Mortality                4.63                       5.0   \n",
      "94  30-day Readmission               14.61                      61.0   \n",
      "95    30-day Mortality               12.32                      41.0   \n",
      "96  30-day Readmission               11.55                      26.0   \n",
      "\n",
      "    # of Cases Hospital Ratings                  Location 1  \n",
      "92        96.0      As Expected       (34.08988, -118.1449)  \n",
      "93       100.0      As Expected       (34.08988, -118.1449)  \n",
      "94       414.0      As Expected      (34.68928, -118.15767)  \n",
      "95       431.0      As Expected      (34.68928, -118.15767)  \n",
      "96       189.0      As Expected  (33.7802376, -118.1866412)  \n"
     ]
    }
   ],
   "source": [
    "print(subset_df.head())"
   ]
  },
  {
   "cell_type": "code",
   "execution_count": 41,
   "id": "c8d3a6ba-2921-4251-9f7e-07a88e11a958",
   "metadata": {},
   "outputs": [],
   "source": [
    "# Cleaning the Data\n",
    "\n",
    "subset_df.loc[:, 'Measure'] = subset_df['Measure'].str.replace('30-day ', '')\n",
    "\n",
    "subset_df.loc[:, '# of Cases'] = pd.to_numeric(subset_df['# of Cases'], errors='coerce')\n",
    "subset_df.loc[:, '# of Deaths/Readmissions'] = pd.to_numeric(subset_df['# of Deaths/Readmissions'], errors='coerce')"
   ]
  },
  {
   "cell_type": "code",
   "execution_count": 42,
   "id": "a0d2b2a1-1281-4da5-858b-6fc54adad159",
   "metadata": {},
   "outputs": [
    {
     "data": {
      "text/html": [
       "<div>\n",
       "<style scoped>\n",
       "    .dataframe tbody tr th:only-of-type {\n",
       "        vertical-align: middle;\n",
       "    }\n",
       "\n",
       "    .dataframe tbody tr th {\n",
       "        vertical-align: top;\n",
       "    }\n",
       "\n",
       "    .dataframe thead th {\n",
       "        text-align: right;\n",
       "    }\n",
       "</style>\n",
       "<table border=\"1\" class=\"dataframe\">\n",
       "  <thead>\n",
       "    <tr style=\"text-align: right;\">\n",
       "      <th></th>\n",
       "      <th>Year</th>\n",
       "      <th>County</th>\n",
       "      <th>Hospital</th>\n",
       "      <th>OSHPDID</th>\n",
       "      <th>Measure</th>\n",
       "      <th>Risk Adjusted Rate</th>\n",
       "      <th># of Deaths/Readmissions</th>\n",
       "      <th># of Cases</th>\n",
       "      <th>Hospital Ratings</th>\n",
       "    </tr>\n",
       "  </thead>\n",
       "  <tbody>\n",
       "    <tr>\n",
       "      <th>92</th>\n",
       "      <td>2011-2012</td>\n",
       "      <td>Los Angeles</td>\n",
       "      <td>Alhambra Hospital</td>\n",
       "      <td>106190017</td>\n",
       "      <td>Readmission</td>\n",
       "      <td>10.40</td>\n",
       "      <td>12.0</td>\n",
       "      <td>96.0</td>\n",
       "      <td>As Expected</td>\n",
       "    </tr>\n",
       "    <tr>\n",
       "      <th>93</th>\n",
       "      <td>2011-2012</td>\n",
       "      <td>Los Angeles</td>\n",
       "      <td>Alhambra Hospital</td>\n",
       "      <td>106190017</td>\n",
       "      <td>Mortality</td>\n",
       "      <td>4.63</td>\n",
       "      <td>5.0</td>\n",
       "      <td>100.0</td>\n",
       "      <td>As Expected</td>\n",
       "    </tr>\n",
       "    <tr>\n",
       "      <th>94</th>\n",
       "      <td>2011-2012</td>\n",
       "      <td>Los Angeles</td>\n",
       "      <td>Antelope Valley Hospital</td>\n",
       "      <td>106190034</td>\n",
       "      <td>Readmission</td>\n",
       "      <td>14.61</td>\n",
       "      <td>61.0</td>\n",
       "      <td>414.0</td>\n",
       "      <td>As Expected</td>\n",
       "    </tr>\n",
       "    <tr>\n",
       "      <th>95</th>\n",
       "      <td>2011-2012</td>\n",
       "      <td>Los Angeles</td>\n",
       "      <td>Antelope Valley Hospital</td>\n",
       "      <td>106190034</td>\n",
       "      <td>Mortality</td>\n",
       "      <td>12.32</td>\n",
       "      <td>41.0</td>\n",
       "      <td>431.0</td>\n",
       "      <td>As Expected</td>\n",
       "    </tr>\n",
       "    <tr>\n",
       "      <th>96</th>\n",
       "      <td>2011-2012</td>\n",
       "      <td>Los Angeles</td>\n",
       "      <td>Saint Mary Medical Center</td>\n",
       "      <td>106190053</td>\n",
       "      <td>Readmission</td>\n",
       "      <td>11.55</td>\n",
       "      <td>26.0</td>\n",
       "      <td>189.0</td>\n",
       "      <td>As Expected</td>\n",
       "    </tr>\n",
       "  </tbody>\n",
       "</table>\n",
       "</div>"
      ],
      "text/plain": [
       "         Year       County                   Hospital    OSHPDID      Measure  \\\n",
       "92  2011-2012  Los Angeles          Alhambra Hospital  106190017  Readmission   \n",
       "93  2011-2012  Los Angeles          Alhambra Hospital  106190017    Mortality   \n",
       "94  2011-2012  Los Angeles   Antelope Valley Hospital  106190034  Readmission   \n",
       "95  2011-2012  Los Angeles   Antelope Valley Hospital  106190034    Mortality   \n",
       "96  2011-2012  Los Angeles  Saint Mary Medical Center  106190053  Readmission   \n",
       "\n",
       "    Risk Adjusted Rate  # of Deaths/Readmissions  # of Cases Hospital Ratings  \n",
       "92               10.40                      12.0        96.0      As Expected  \n",
       "93                4.63                       5.0       100.0      As Expected  \n",
       "94               14.61                      61.0       414.0      As Expected  \n",
       "95               12.32                      41.0       431.0      As Expected  \n",
       "96               11.55                      26.0       189.0      As Expected  "
      ]
     },
     "execution_count": 42,
     "metadata": {},
     "output_type": "execute_result"
    }
   ],
   "source": [
    "import numpy as np \n",
    "\n",
    "subset_df.head()"
   ]
  },
  {
   "cell_type": "code",
   "execution_count": 35,
   "id": "f1e6494b-38f2-439e-887b-4f3f8c9e6971",
   "metadata": {},
   "outputs": [],
   "source": [
    "subset_df=subset_df.loc[:, ['Year','County', 'Hospital','OSHPDID','Measure','Risk Adjusted Rate','# of Deaths/Readmissions','# of Cases','Hospital Ratings']]"
   ]
  },
  {
   "cell_type": "code",
   "execution_count": 38,
   "id": "973699ee-8efd-4270-bfda-89f6b4149855",
   "metadata": {},
   "outputs": [
    {
     "data": {
      "text/plain": [
       "array(['As Expected', 'Worse', 'Better', nan], dtype=object)"
      ]
     },
     "execution_count": 38,
     "metadata": {},
     "output_type": "execute_result"
    }
   ],
   "source": [
    "subset_df['Hospital Ratings'].unique()"
   ]
  },
  {
   "cell_type": "code",
   "execution_count": 43,
   "id": "41de0a11-e6ad-444f-822b-38268e3a0707",
   "metadata": {},
   "outputs": [
    {
     "data": {
      "text/plain": [
       "'C:\\\\Users\\\\rache\\\\Helen-and-Rachel-Data-Science-'"
      ]
     },
     "execution_count": 43,
     "metadata": {},
     "output_type": "execute_result"
    }
   ],
   "source": [
    "import os\n",
    "os.getcwd()\n"
   ]
  },
  {
   "cell_type": "code",
   "execution_count": 44,
   "id": "16c0d603-a100-41e1-bb31-3d5eb3ebc483",
   "metadata": {},
   "outputs": [
    {
     "data": {
      "text/plain": [
       "'C:\\\\Users\\\\rache\\\\Helen-and-Rachel-Data-Science-\\\\Data.ipynb'"
      ]
     },
     "execution_count": 44,
     "metadata": {},
     "output_type": "execute_result"
    }
   ],
   "source": [
    "import os\n",
    "os.path.abspath(\"Data.ipynb\")\n"
   ]
  },
  {
   "cell_type": "code",
   "execution_count": null,
   "id": "1611aa98-cddd-4364-aeba-862b111c0c01",
   "metadata": {},
   "outputs": [],
   "source": []
  }
 ],
 "metadata": {
  "kernelspec": {
   "display_name": "Python [conda env:base] *",
   "language": "python",
   "name": "conda-base-py"
  },
  "language_info": {
   "codemirror_mode": {
    "name": "ipython",
    "version": 3
   },
   "file_extension": ".py",
   "mimetype": "text/x-python",
   "name": "python",
   "nbconvert_exporter": "python",
   "pygments_lexer": "ipython3",
   "version": "3.13.5"
  }
 },
 "nbformat": 4,
 "nbformat_minor": 5
}
